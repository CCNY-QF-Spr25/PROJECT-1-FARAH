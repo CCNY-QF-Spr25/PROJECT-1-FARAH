{
 "cells": [
  {
   "cell_type": "code",
   "execution_count": 3,
   "metadata": {},
   "outputs": [],
   "source": [
    "import pandas  as pd \n",
    "import seaborn as sns\n",
    "import yfinance as yf\n",
    "import numpy as np"
   ]
  },
  {
   "cell_type": "code",
   "execution_count": null,
   "metadata": {},
   "outputs": [
    {
     "name": "stderr",
     "output_type": "stream",
     "text": [
      "[*********************100%***********************]  11 of 11 completed\n"
     ]
    }
   ],
   "source": [
    "# Define our list of tickers and etfs \n",
    "tickers = ['ACLS', 'AAPL', 'KO', 'F', 'TSLA', 'AMZN', 'NFLX']\n",
    "etfs = ['DIA', 'IWM', 'SPY', \"QQQ\"]\n",
    "\n",
    "# Download the data for tickers and etfs for 10 years\n",
    "hist_data = yf.download(tickers+etfs, period='10y')['Close']\n",
    "\n",
    "# calculate the dail returns\n",
    "returns = hist_data.pct_change()\n",
    "\n",
    "# convert all to uppercase for indexing\n",
    "tickers = [ticker.upper() for ticker in tickers]\n",
    "etfs = [etf.upper() for etf in etfs]\n"
   ]
  },
  {
   "cell_type": "code",
   "execution_count": null,
   "metadata": {},
   "outputs": [],
   "source": [
    "# create table 1 dataframe\n",
    "table_1 = pd.DataFrame(index=tickers)\n",
    "\n",
    "# calclute the weights for equally weighted assets\n",
    "table_1['weight'] = 1 / len(tickers)\n",
    "\n",
    "# Calculate annualized volatility based on last 63 trading days\n",
    "table_1[\"annualized_volatility\"] = returns[-63:].std() ** (1/252)\n",
    "\n",
    "# Calculate BETA against our ETFs\n",
    "table_1[etfs] = returns.cov()[etfs] / returns[etfs].var()\n",
    "\n",
    "# Rename columns for BETAs\n",
    "col_names = {etf: \"Beta_\" + etf for etf in etfs}\n",
    "table_1.rename(columns=col_names, inplace=True)\n",
    "\n",
    "# Get the rolling 52-week high and low (252 trading days)\n",
    "high_5_days = hist_data[-252:].rolling(5).max()\n",
    "low_5_days = hist_data[-252:].rolling(5).min()\n",
    "\n",
    "# calculate  the weekly drawdowns (52 week high - 52 week low) / 52 week high\n",
    "weekly_drawdown = (low_5_days - high_5_days) / high_5_days\n",
    "\n",
    "# Insert the average and max weekly drawdowns into table \n",
    "table_1['avg_weekly_drawdown'] = weekly_drawdown.mean()\n",
    "table_1['max_weekly_drawdown'] = weekly_drawdown.min()\n",
    "\n",
    "# Calculate 10yr Total Return\n",
    "table_1['10yr Return'] = hist_data.pct_change(len(hist_data)-1)[-1:].T\n",
    "\n",
    "# Annualized 10yr Return\n",
    "table_1['Annualized 10 Yr Return'] = table_1['10yr Return'] / 10\n"
   ]
  },
  {
   "cell_type": "markdown",
   "metadata": {},
   "source": [
    "1st: Calculate portfolio returns"
   ]
  },
  {
   "cell_type": "code",
   "execution_count": 96,
   "metadata": {},
   "outputs": [],
   "source": [
    "# calculate portfolio returns\n",
    "returns['my_portfolio'] = returns[tickers].sum(axis=1)"
   ]
  },
  {
   "cell_type": "markdown",
   "metadata": {},
   "source": [
    "2nd: Build table_2 using Pandas methods to compare 'my_portfolio' to the ETFs"
   ]
  },
  {
   "cell_type": "code",
   "execution_count": null,
   "metadata": {},
   "outputs": [],
   "source": [
    "\n",
    "\n",
    "table_2 = pd.DataFrame(index=etfs)\n",
    "\n",
    "# Loop through each ETF to calculate metrics\n",
    "for etf in etfs:\n",
    "    # Correlation between portfolio and ETF\n",
    "    table_2.loc[etf, 'correlation_against_etf'] = portfolio_returns.corr(returns[etf])\n",
    "\n",
    "    # Covariance of portfolio returns against ETF returns\n",
    "    table_2.loc[etf, 'covariance_of_portfolio_against_etf'] = portfolio_returns.cov(returns[etf])\n",
    "\n",
    "    # Tracking error (standard deviation of the difference between portfolio and ETF returns)\n",
    "    tracking_error = (portfolio_returns - returns[etf]).std() * np.sqrt(252)  # Annualized tracking error\n",
    "    table_2.loc[etf, 'tracking_error'] = tracking_error\n",
    "\n",
    "    # Sharpe ratio (using risk-free rate of 4% annually or 0.04 / 252 for daily rate)\n",
    "    risk_free_rate = 0.04 / 252  # 4% annual risk-free rate (converted to daily)\n",
    "    excess_return = portfolio_returns.mean() - risk_free_rate\n",
    "    sharpe_ratio = excess_return / portfolio_returns.std()\n",
    "    table_2.loc[etf, 'sharpe_ratio'] = sharpe_ratio\n",
    "\n",
    "    # Annualized volatility of the ETF\n",
    "    annualized_volatility_etf = returns[etf].std() * np.sqrt(252)\n",
    "    table_2.loc[etf, 'annualized_volatility_etf'] = annualized_volatility_etf\n",
    "\n",
    "    # Annualized volatility of the portfolio\n",
    "    annualized_volatility_portfolio = portfolio_returns.std() * np.sqrt(252)\n",
    "\n",
    "    # Volatility spread (difference between portfolio volatility and ETF volatility)\n",
    "    table_2.loc[etf, 'volatility_spread'] = annualized_volatility_portfolio - annualized_volatility_etf\n",
    "\n",
    "    # Rolling Minimum (252 days = 1 year)\n",
    "    rolling_min = hist_data[etf].rolling(window=252).min()\n",
    "    table_2.loc[etf, 'rolling_min'] = rolling_min.iloc[-1]  # Latest rolling min value\n",
    "\n",
    "    # Rolling Mean Absolute Deviation (MAD)\n",
    "    rolling_mad = hist_data[etf].rolling(window=252).apply(lambda x: np.mean(np.abs(x - np.mean(x))), raw=True)\n",
    "    table_2.loc[etf, 'rolling_mad'] = rolling_mad.iloc[-1]  # Latest rolling MAD value\n"
   ]
  }
 ],
 "metadata": {
  "kernelspec": {
   "display_name": "Python 3",
   "language": "python",
   "name": "python3"
  },
  "language_info": {
   "codemirror_mode": {
    "name": "ipython",
    "version": 3
   },
   "file_extension": ".py",
   "mimetype": "text/x-python",
   "name": "python",
   "nbconvert_exporter": "python",
   "pygments_lexer": "ipython3",
   "version": "3.12.0"
  }
 },
 "nbformat": 4,
 "nbformat_minor": 2
}
